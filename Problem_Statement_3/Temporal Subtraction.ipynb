{
 "cells": [
  {
   "cell_type": "code",
   "execution_count": 1,
   "metadata": {},
   "outputs": [],
   "source": [
    "init_mlo_normal_folder_path = \"dataset/normal_cases\"\n",
    "init_mlo_suspecious_folder_path = \"dataset/suspicious_cases\"\n",
    "\n",
    "final_mlo_normal_folder_path = \"mlo_dataset/normal\"\n",
    "final_mlo_suspecious_folder_path = \"mlo_dataset/suspecious\""
   ]
  },
  {
   "cell_type": "code",
   "execution_count": null,
   "metadata": {},
   "outputs": [],
   "source": [
    "IM_SIZE_WIDTH = 4096\n",
    "IM_SIZE_HEIGHT = 3328"
   ]
  },
  {
   "cell_type": "code",
   "execution_count": null,
   "metadata": {},
   "outputs": [],
   "source": [
    "import pydicom\n",
    "import numpy as np\n",
    "import matplotlib.pyplot as plt\n",
    "import os\n",
    "\n",
    "def temporal_subtraction(current_dicom_path, prior_dicom_path):\n",
    "    current_dicom = pydicom.dcmread(current_dicom_path)\n",
    "    prior_dicom = pydicom.dcmread(prior_dicom_path)\n",
    "\n",
    "    current_image = current_dicom.pixel_array.astype(np.float32)\n",
    "    prior_image = prior_dicom.pixel_array.astype(np.float32)\n",
    "\n",
    "    current_image = np.resize(current_image, [IM_SIZE_WIDTH, IM_SIZE_HEIGHT])\n",
    "    prior_image = np.resize(prior_image, [IM_SIZE_WIDTH, IM_SIZE_HEIGHT])\n",
    "    \n",
    "    current_image /= np.max(current_image)\n",
    "    prior_image /= np.max(prior_image)\n",
    "\n",
    "    # # Perform temporal subtraction\n",
    "    subtraction_image = current_image - prior_image\n",
    "    # # Clip negative values (if any) to zero\n",
    "    subtraction_image[subtraction_image < 0] = 0\n",
    "    return subtraction_image\n",
    "\n",
    "def createDatanormal():\n",
    "    persons = os.listdir(init_mlo_normal_folder_path)\n",
    "    count = 0\n",
    "    for person in persons:\n",
    "        person_path = init_mlo_normal_folder_path + \"/\" + person\n",
    "        mlo_prior_path = person_path + \"/\" + \"mlo_prior.dcm\"\n",
    "        mlo_recent_path = person_path + \"/\" + \"mlo_recent.dcm\"\n",
    "        if(os.path.isfile(mlo_prior_path) and os.path.isfile(mlo_recent_path)):\n",
    "            count +=1\n",
    "            img = temporal_subtraction(mlo_recent_path, mlo_prior_path)\n",
    "            plt.imsave(f\"{final_mlo_normal_folder_path}/{count}_mlo_diff.jpg\", img, cmap=\"grey\")\n",
    "\n",
    "\n",
    "def createDataSuspecious():\n",
    "    persons = os.listdir(init_mlo_normal_folder_path)\n",
    "    count = 0\n",
    "    for person in persons:\n",
    "        person_path = init_mlo_suspecious_folder_path + \"/\" + person\n",
    "        mlo_prior_path = person_path + \"/\" + \"mlo_prior.dcm\"\n",
    "        mlo_recent_path = person_path + \"/\" + \"mlo_recent.dcm\"\n",
    "        if(os.path.isfile(mlo_prior_path) and os.path.isfile(mlo_recent_path)):\n",
    "            count +=1\n",
    "            img = temporal_subtraction(mlo_recent_path, mlo_prior_path)\n",
    "            plt.imsave(f\"{final_mlo_suspecious_folder_path}/{count}_mlo_diff.jpg\", img, cmap=\"grey\")"
   ]
  },
  {
   "cell_type": "code",
   "execution_count": null,
   "metadata": {},
   "outputs": [],
   "source": [
    "createDatanormal()"
   ]
  },
  {
   "cell_type": "code",
   "execution_count": null,
   "metadata": {},
   "outputs": [],
   "source": [
    "createDataSuspecious()"
   ]
  }
 ],
 "metadata": {
  "kernelspec": {
   "display_name": "virt",
   "language": "python",
   "name": "python3"
  },
  "language_info": {
   "codemirror_mode": {
    "name": "ipython",
    "version": 3
   },
   "file_extension": ".py",
   "mimetype": "text/x-python",
   "name": "python",
   "nbconvert_exporter": "python",
   "pygments_lexer": "ipython3",
   "version": "3.11.6"
  }
 },
 "nbformat": 4,
 "nbformat_minor": 2
}
